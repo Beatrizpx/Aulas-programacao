{
  "nbformat": 4,
  "nbformat_minor": 0,
  "metadata": {
    "colab": {
      "provenance": [],
      "toc_visible": true,
      "authorship_tag": "ABX9TyM25kRXUlawYcGyNxtC2UZg",
      "include_colab_link": true
    },
    "kernelspec": {
      "name": "python3",
      "display_name": "Python 3"
    },
    "language_info": {
      "name": "python"
    }
  },
  "cells": [
    {
      "cell_type": "markdown",
      "metadata": {
        "id": "view-in-github",
        "colab_type": "text"
      },
      "source": [
        "<a href=\"https://colab.research.google.com/github/Beatrizpx/Aulas-programacao/blob/main/Estruturas_de_controle.ipynb\" target=\"_parent\"><img src=\"https://colab.research.google.com/assets/colab-badge.svg\" alt=\"Open In Colab\"/></a>"
      ]
    },
    {
      "cell_type": "code",
      "execution_count": 26,
      "metadata": {
        "colab": {
          "base_uri": "https://localhost:8080/"
        },
        "id": "_YKD3CVqn4q7",
        "outputId": "1a653955-e4c8-4b65-fc74-6ba906357dd7"
      },
      "outputs": [
        {
          "output_type": "stream",
          "name": "stdout",
          "text": [
            "True\n",
            "True\n",
            "False\n"
          ]
        }
      ],
      "source": [
        "print(100==(50+50))\n",
        "print(100>=(50+50))\n",
        "print(100>(50+50))"
      ]
    },
    {
      "cell_type": "code",
      "source": [
        "sexo= 'M'\n",
        "idade= 60\n",
        "if(sexo == 'M' and idade >=60):\n",
        " print('Pode se aposentar')\n",
        "elif(sexo =='F' and idade >= 65):\n",
        " print('Pode se aposentar')\n",
        "else:\n",
        " print('Ainda não pode se aposentar')\n",
        "\n"
      ],
      "metadata": {
        "colab": {
          "base_uri": "https://localhost:8080/"
        },
        "id": "9PjP23cHp1YV",
        "outputId": "573848be-b12b-4d3e-fd44-17829ae3a4e1"
      },
      "execution_count": 27,
      "outputs": [
        {
          "output_type": "stream",
          "name": "stdout",
          "text": [
            "Pode se aposentar\n"
          ]
        }
      ]
    },
    {
      "cell_type": "code",
      "source": [
        "sexo= input('Insira o sexo, M (masculino) ou F(feminino):')\n",
        "idade= int(input('Isira a idade:'))\n",
        "if((sexo == 'M' and idade >=50) or (sexo == 'F' and idade >=60)):\n",
        " print('Pode se aposentar')\n",
        "else:\n",
        "\n",
        " print('Ainda não pode se aposentar')\n"
      ],
      "metadata": {
        "id": "U1KG29XTudWu"
      },
      "execution_count": null,
      "outputs": []
    },
    {
      "cell_type": "code",
      "source": [
        "#SOLICITE TRES NUMEROS A,B,C\n",
        "#IMPRIMA NA TELA SE A+B é menor de C\n",
        "\n",
        "A= int(input('Insira um numero:'))\n",
        "B= int(input('Insira um numero:'))\n",
        "C= int(input('Insira um numero:'))\n",
        "\n",
        "if(A+B < C):\n",
        "  print( 'É menor')\n",
        "else:\n",
        "  print(' É maior')\n",
        "\n",
        "\n"
      ],
      "metadata": {
        "id": "cF45rEKOwBX-"
      },
      "execution_count": null,
      "outputs": []
    },
    {
      "cell_type": "code",
      "source": [
        "#ESCREVA UM ALGORITIMO QUE RECEBE 2 VALORES INTEIROS \n",
        "#ESESCREVE NA TELA QUAL É O MAIOR\n",
        "\n",
        "\n",
        "n1 = int(input('Escreva o numero:'))\n",
        "n2 = int(input('Escreva o numero:'))\n",
        "\n",
        "\n",
        "if(n1>n2):\n",
        "  print( n1,' é menor que ',n2)\n",
        "else:\n",
        "  print( n2,' é maior que',n1)\n",
        "\n"
      ],
      "metadata": {
        "colab": {
          "base_uri": "https://localhost:8080/"
        },
        "id": "8fi5k1lbyZIe",
        "outputId": "ec29f725-1076-4019-e8f9-5cd27393cdf5"
      },
      "execution_count": 39,
      "outputs": [
        {
          "output_type": "stream",
          "name": "stdout",
          "text": [
            "Escreva o numero:13\n",
            "Escreva o numero:17\n",
            "17  é maior que 13\n"
          ]
        }
      ]
    },
    {
      "cell_type": "code",
      "source": [],
      "metadata": {
        "id": "t5aDS_eE0J2U"
      },
      "execution_count": null,
      "outputs": []
    }
  ]
}