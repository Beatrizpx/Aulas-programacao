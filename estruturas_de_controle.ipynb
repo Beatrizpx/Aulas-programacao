{
  "nbformat": 4,
  "nbformat_minor": 0,
  "metadata": {
    "colab": {
      "provenance": [],
      "toc_visible": true,
      "authorship_tag": "ABX9TyPISF5IDn+XCgWnTaO/6vsp",
      "include_colab_link": true
    },
    "kernelspec": {
      "name": "python3",
      "display_name": "Python 3"
    },
    "language_info": {
      "name": "python"
    }
  },
  "cells": [
    {
      "cell_type": "markdown",
      "metadata": {
        "id": "view-in-github",
        "colab_type": "text"
      },
      "source": [
        "<a href=\"https://colab.research.google.com/github/Beatrizpx/Aulas-programacao/blob/main/estruturas_de_controle.ipynb\" target=\"_parent\"><img src=\"https://colab.research.google.com/assets/colab-badge.svg\" alt=\"Open In Colab\"/></a>"
      ]
    },
    {
      "cell_type": "code",
      "execution_count": null,
      "metadata": {
        "colab": {
          "base_uri": "https://localhost:8080/"
        },
        "id": "_YKD3CVqn4q7",
        "outputId": "1a653955-e4c8-4b65-fc74-6ba906357dd7"
      },
      "outputs": [
        {
          "output_type": "stream",
          "name": "stdout",
          "text": [
            "True\n",
            "True\n",
            "False\n"
          ]
        }
      ],
      "source": [
        "print(100==(50+50))\n",
        "print(100>=(50+50))\n",
        "print(100>(50+50))"
      ]
    },
    {
      "cell_type": "code",
      "source": [
        "sexo= 'M'\n",
        "idade= 60\n",
        "if(sexo == 'M' and idade >=60):\n",
        " print('Pode se aposentar')\n",
        "elif(sexo =='F' and idade >= 65):\n",
        " print('Pode se aposentar')\n",
        "else:\n",
        " print('Ainda não pode se aposentar')\n",
        "\n"
      ],
      "metadata": {
        "colab": {
          "base_uri": "https://localhost:8080/"
        },
        "id": "9PjP23cHp1YV",
        "outputId": "573848be-b12b-4d3e-fd44-17829ae3a4e1"
      },
      "execution_count": null,
      "outputs": [
        {
          "output_type": "stream",
          "name": "stdout",
          "text": [
            "Pode se aposentar\n"
          ]
        }
      ]
    },
    {
      "cell_type": "code",
      "source": [
        "sexo= input('Insira o sexo, M (masculino) ou F(feminino):')\n",
        "idade= int(input('Isira a idade:'))\n",
        "if((sexo == 'M' and idade >=50) or (sexo == 'F' and idade >=60)):\n",
        " print('Pode se aposentar')\n",
        "else:\n",
        "\n",
        " print('Ainda não pode se aposentar')\n"
      ],
      "metadata": {
        "colab": {
          "base_uri": "https://localhost:8080/",
          "height": 380
        },
        "id": "U1KG29XTudWu",
        "outputId": "cd3317b2-1280-49c1-a787-fd4e83b3e4bb"
      },
      "execution_count": null,
      "outputs": [
        {
          "output_type": "error",
          "ename": "KeyboardInterrupt",
          "evalue": "ignored",
          "traceback": [
            "\u001b[0;31m---------------------------------------------------------------------------\u001b[0m",
            "\u001b[0;31mKeyboardInterrupt\u001b[0m                         Traceback (most recent call last)",
            "\u001b[0;32m<ipython-input-40-a4d3c8218023>\u001b[0m in \u001b[0;36m<cell line: 1>\u001b[0;34m()\u001b[0m\n\u001b[0;32m----> 1\u001b[0;31m \u001b[0msexo\u001b[0m\u001b[0;34m=\u001b[0m \u001b[0minput\u001b[0m\u001b[0;34m(\u001b[0m\u001b[0;34m'Insira o sexo, M (masculino) ou F(feminino):'\u001b[0m\u001b[0;34m)\u001b[0m\u001b[0;34m\u001b[0m\u001b[0;34m\u001b[0m\u001b[0m\n\u001b[0m\u001b[1;32m      2\u001b[0m \u001b[0midade\u001b[0m\u001b[0;34m=\u001b[0m \u001b[0mint\u001b[0m\u001b[0;34m(\u001b[0m\u001b[0minput\u001b[0m\u001b[0;34m(\u001b[0m\u001b[0;34m'Isira a idade:'\u001b[0m\u001b[0;34m)\u001b[0m\u001b[0;34m)\u001b[0m\u001b[0;34m\u001b[0m\u001b[0;34m\u001b[0m\u001b[0m\n\u001b[1;32m      3\u001b[0m \u001b[0;32mif\u001b[0m\u001b[0;34m(\u001b[0m\u001b[0;34m(\u001b[0m\u001b[0msexo\u001b[0m \u001b[0;34m==\u001b[0m \u001b[0;34m'M'\u001b[0m \u001b[0;32mand\u001b[0m \u001b[0midade\u001b[0m \u001b[0;34m>=\u001b[0m\u001b[0;36m50\u001b[0m\u001b[0;34m)\u001b[0m \u001b[0;32mor\u001b[0m \u001b[0;34m(\u001b[0m\u001b[0msexo\u001b[0m \u001b[0;34m==\u001b[0m \u001b[0;34m'F'\u001b[0m \u001b[0;32mand\u001b[0m \u001b[0midade\u001b[0m \u001b[0;34m>=\u001b[0m\u001b[0;36m60\u001b[0m\u001b[0;34m)\u001b[0m\u001b[0;34m)\u001b[0m\u001b[0;34m:\u001b[0m\u001b[0;34m\u001b[0m\u001b[0;34m\u001b[0m\u001b[0m\n\u001b[1;32m      4\u001b[0m  \u001b[0mprint\u001b[0m\u001b[0;34m(\u001b[0m\u001b[0;34m'Pode se aposentar'\u001b[0m\u001b[0;34m)\u001b[0m\u001b[0;34m\u001b[0m\u001b[0;34m\u001b[0m\u001b[0m\n\u001b[1;32m      5\u001b[0m \u001b[0;32melse\u001b[0m\u001b[0;34m:\u001b[0m\u001b[0;34m\u001b[0m\u001b[0;34m\u001b[0m\u001b[0m\n",
            "\u001b[0;32m/usr/local/lib/python3.9/dist-packages/ipykernel/kernelbase.py\u001b[0m in \u001b[0;36mraw_input\u001b[0;34m(self, prompt)\u001b[0m\n\u001b[1;32m    849\u001b[0m                 \u001b[0;34m\"raw_input was called, but this frontend does not support input requests.\"\u001b[0m\u001b[0;34m\u001b[0m\u001b[0;34m\u001b[0m\u001b[0m\n\u001b[1;32m    850\u001b[0m             )\n\u001b[0;32m--> 851\u001b[0;31m         return self._input_request(str(prompt),\n\u001b[0m\u001b[1;32m    852\u001b[0m             \u001b[0mself\u001b[0m\u001b[0;34m.\u001b[0m\u001b[0m_parent_ident\u001b[0m\u001b[0;34m,\u001b[0m\u001b[0;34m\u001b[0m\u001b[0;34m\u001b[0m\u001b[0m\n\u001b[1;32m    853\u001b[0m             \u001b[0mself\u001b[0m\u001b[0;34m.\u001b[0m\u001b[0m_parent_header\u001b[0m\u001b[0;34m,\u001b[0m\u001b[0;34m\u001b[0m\u001b[0;34m\u001b[0m\u001b[0m\n",
            "\u001b[0;32m/usr/local/lib/python3.9/dist-packages/ipykernel/kernelbase.py\u001b[0m in \u001b[0;36m_input_request\u001b[0;34m(self, prompt, ident, parent, password)\u001b[0m\n\u001b[1;32m    893\u001b[0m             \u001b[0;32mexcept\u001b[0m \u001b[0mKeyboardInterrupt\u001b[0m\u001b[0;34m:\u001b[0m\u001b[0;34m\u001b[0m\u001b[0;34m\u001b[0m\u001b[0m\n\u001b[1;32m    894\u001b[0m                 \u001b[0;31m# re-raise KeyboardInterrupt, to truncate traceback\u001b[0m\u001b[0;34m\u001b[0m\u001b[0;34m\u001b[0m\u001b[0m\n\u001b[0;32m--> 895\u001b[0;31m                 \u001b[0;32mraise\u001b[0m \u001b[0mKeyboardInterrupt\u001b[0m\u001b[0;34m(\u001b[0m\u001b[0;34m\"Interrupted by user\"\u001b[0m\u001b[0;34m)\u001b[0m \u001b[0;32mfrom\u001b[0m \u001b[0;32mNone\u001b[0m\u001b[0;34m\u001b[0m\u001b[0;34m\u001b[0m\u001b[0m\n\u001b[0m\u001b[1;32m    896\u001b[0m             \u001b[0;32mexcept\u001b[0m \u001b[0mException\u001b[0m \u001b[0;32mas\u001b[0m \u001b[0me\u001b[0m\u001b[0;34m:\u001b[0m\u001b[0;34m\u001b[0m\u001b[0;34m\u001b[0m\u001b[0m\n\u001b[1;32m    897\u001b[0m                 \u001b[0mself\u001b[0m\u001b[0;34m.\u001b[0m\u001b[0mlog\u001b[0m\u001b[0;34m.\u001b[0m\u001b[0mwarning\u001b[0m\u001b[0;34m(\u001b[0m\u001b[0;34m\"Invalid Message:\"\u001b[0m\u001b[0;34m,\u001b[0m \u001b[0mexc_info\u001b[0m\u001b[0;34m=\u001b[0m\u001b[0;32mTrue\u001b[0m\u001b[0;34m)\u001b[0m\u001b[0;34m\u001b[0m\u001b[0;34m\u001b[0m\u001b[0m\n",
            "\u001b[0;31mKeyboardInterrupt\u001b[0m: Interrupted by user"
          ]
        }
      ]
    },
    {
      "cell_type": "markdown",
      "source": [],
      "metadata": {
        "id": "DjAdHq6A615U"
      }
    },
    {
      "cell_type": "code",
      "source": [
        "#SOLICITE TRES NUMEROS A,B,C\n",
        "#IMPRIMA NA TELA SE A+B é menor de C\n",
        "\n",
        "A= int(input('Insira um numero:'))\n",
        "B= int(input('Insira um numero:'))\n",
        "C= int(input('Insira um numero:'))\n",
        "\n",
        "if(A+B < C):\n",
        "  print( 'É menor')\n",
        "else: \n",
        "  print(' É maior')\n",
        "\n",
        "\n"
      ],
      "metadata": {
        "id": "cF45rEKOwBX-"
      },
      "execution_count": null,
      "outputs": []
    },
    {
      "cell_type": "code",
      "source": [
        "#ESCREVA UM ALGORITIMO QUE RECEBE 2 VALORES INTEIROS \n",
        "#ESESCREVE NA TELA QUAL É O MAIOR\n",
        "\n",
        "\n",
        "n1 = int(input('Escreva o numero:'))\n",
        "n2 = int(input('Escreva o numero:'))\n",
        "\n",
        "\n",
        "if(n1>n2):\n",
        "  print( n1,' é menor que ',n2)\n",
        "else:\n",
        "  print( n2,' é maior que',n1)\n",
        "\n"
      ],
      "metadata": {
        "colab": {
          "base_uri": "https://localhost:8080/"
        },
        "id": "8fi5k1lbyZIe",
        "outputId": "ec29f725-1076-4019-e8f9-5cd27393cdf5"
      },
      "execution_count": null,
      "outputs": [
        {
          "output_type": "stream",
          "name": "stdout",
          "text": [
            "Escreva o numero:13\n",
            "Escreva o numero:17\n",
            "17  é maior que 13\n"
          ]
        }
      ]
    },
    {
      "cell_type": "code",
      "source": [],
      "metadata": {
        "id": "cAZdWHb38T0j"
      },
      "execution_count": null,
      "outputs": []
    },
    {
      "cell_type": "markdown",
      "source": [
        "LISTAS\n",
        "\n"
      ],
      "metadata": {
        "id": "2sSXIj6r63SD"
      }
    },
    {
      "cell_type": "code",
      "source": [
        "#Listas são estruturas de dados formadas por elementos de um mesmo tipo \n",
        "numeros = [23, 4, 3, 2]\n"
      ],
      "metadata": {
        "id": "UfirL2_m69IK"
      },
      "execution_count": null,
      "outputs": []
    },
    {
      "cell_type": "code",
      "source": [
        "#Tamanho de uma lista\n",
        "len(numeros)"
      ],
      "metadata": {
        "id": "8UYYRHMa7w7d"
      },
      "execution_count": null,
      "outputs": []
    },
    {
      "cell_type": "code",
      "source": [
        "  #INDICES [ 23, 4, 3, 2]\n",
        "print(numeros[0])\n",
        "print(numeros[1])\n",
        "print(numeros[2])\n",
        "print(numeros[3])"
      ],
      "metadata": {
        "colab": {
          "base_uri": "https://localhost:8080/"
        },
        "id": "KTIlGdg18eGZ",
        "outputId": "d17a88b6-f51b-4ad2-db65-63c186da4c8c"
      },
      "execution_count": null,
      "outputs": [
        {
          "output_type": "stream",
          "name": "stdout",
          "text": [
            "23\n",
            "4\n",
            "3\n",
            "2\n"
          ]
        }
      ]
    },
    {
      "cell_type": "code",
      "source": [
        "#ALUNOS DD OUTRO TIPO\n",
        "alunos = [' Mariana','Luiz','Higor','Ivan','valentina' ]"
      ],
      "metadata": {
        "id": "-lCqXPJK-mhK"
      },
      "execution_count": null,
      "outputs": []
    },
    {
      "cell_type": "code",
      "source": [
        "#INSERIR VALORES DE ITENS DE LISTA\n",
        "alunos =['Luiz']"
      ],
      "metadata": {
        "id": "XmGH59XK_I0a"
      },
      "execution_count": null,
      "outputs": []
    },
    {
      "cell_type": "code",
      "source": [
        "#inserir valores na lista . append()\n",
        "alunos.append('Aderbal')\n",
        "alunos"
      ],
      "metadata": {
        "colab": {
          "base_uri": "https://localhost:8080/"
        },
        "id": "GhU8VeGk_nGV",
        "outputId": "13695c93-8367-474b-e71f-f6d322b8e2e7"
      },
      "execution_count": null,
      "outputs": [
        {
          "output_type": "execute_result",
          "data": {
            "text/plain": [
              "['Luiz', 'Aderbal']"
            ]
          },
          "metadata": {},
          "execution_count": 54
        }
      ]
    },
    {
      "cell_type": "code",
      "source": [
        "#lista aula 6- coleçoes\n",
        "\n",
        "nomes = ['ze', 'tiao', 'joaoquim']\n",
        "nomes.append('julia')\n",
        "\n",
        "#varios valores\n",
        "outrosNomes =[ 'ana', 'zabe', 'maria']\n",
        "nomes.extend(outrosNomes)\n",
        "\n",
        "\n",
        "nomes\n"
      ],
      "metadata": {
        "colab": {
          "base_uri": "https://localhost:8080/"
        },
        "id": "BfLtgRj02-HE",
        "outputId": "d7d9e7b6-7fe0-4430-eb72-d9bd5ca8a036"
      },
      "execution_count": null,
      "outputs": [
        {
          "output_type": "execute_result",
          "data": {
            "text/plain": [
              "['ze', 'tiao', 'joaoquim', 'julia', 'ana', 'zabe', 'maria']"
            ]
          },
          "metadata": {},
          "execution_count": 1
        }
      ]
    },
    {
      "cell_type": "code",
      "source": [
        "#crie uma lista de numeros e \n",
        "numeros= [ 1,2,3,4,5,6,7,8]\n",
        "#remova o primeiro elemento da lista\n",
        "numeros.remove(numeros[0])\n",
        "#remova o ultimo elementos da lista\n",
        "numeros.pop()\n",
        "\n",
        "\n",
        "numeros"
      ],
      "metadata": {
        "colab": {
          "base_uri": "https://localhost:8080/"
        },
        "id": "Ui9eN6gw9Vff",
        "outputId": "9a7f9eba-e4c9-464d-e8e8-44d92092f8d3"
      },
      "execution_count": null,
      "outputs": [
        {
          "output_type": "execute_result",
          "data": {
            "text/plain": [
              "[2, 3, 4, 5, 6, 7]"
            ]
          },
          "metadata": {},
          "execution_count": 5
        }
      ]
    },
    {
      "cell_type": "code",
      "source": [
        "#1 crie uma lista de notas, e exiba-a da menor para maior\n",
        "notas = [ 1,2,3,4,5,6,7,8]\n",
        "nomes = ['ana','maria','beatriz','mariana','natalia']\n",
        "notas.sort()\n",
        "nomes.sort()\n",
        "#2 crie uma lista de nomes de frutas e ordene-a de menor para maior\n",
        "\n",
        "nomes"
      ],
      "metadata": {
        "colab": {
          "base_uri": "https://localhost:8080/"
        },
        "id": "pIwFFjoo_jMi",
        "outputId": "752bde90-282c-46fe-a9a4-0d60e21bcaf2"
      },
      "execution_count": null,
      "outputs": [
        {
          "output_type": "execute_result",
          "data": {
            "text/plain": [
              "['ana', 'beatriz', 'maria', 'mariana', 'natalia']"
            ]
          },
          "metadata": {},
          "execution_count": 11
        }
      ]
    },
    {
      "cell_type": "code",
      "source": [
        " #exmplo função map- criar uma nova lista com o dobro do valor\n",
        "numeros = [ 2, 5, 6, 7]\n",
        "nova_lista = list(map(lambda x : x*2, numeros))\n",
        "nova_lista\n"
      ],
      "metadata": {
        "colab": {
          "base_uri": "https://localhost:8080/"
        },
        "id": "XIvfkXx2Bb63",
        "outputId": "bcd034c2-b440-4b9b-9a9a-f4a868d75c0a"
      },
      "execution_count": null,
      "outputs": [
        {
          "output_type": "execute_result",
          "data": {
            "text/plain": [
              "[4, 10, 12, 14]"
            ]
          },
          "metadata": {},
          "execution_count": 12
        }
      ]
    },
    {
      "cell_type": "code",
      "source": [
        "# pegar cada um dos numeros e dividir por 3\n",
        "numdiv = list(map(lambda x: x/3, numeros))\n",
        "numdiv"
      ],
      "metadata": {
        "colab": {
          "base_uri": "https://localhost:8080/"
        },
        "id": "NeSr-SrZDKB-",
        "outputId": "4699d892-8ea6-49ad-9ff3-86addaa82147"
      },
      "execution_count": null,
      "outputs": [
        {
          "output_type": "execute_result",
          "data": {
            "text/plain": [
              "[1.0, 3.0, 2.0, 6.0]"
            ]
          },
          "metadata": {},
          "execution_count": 15
        }
      ]
    },
    {
      "cell_type": "code",
      "source": [
        "#pega cada numero e soma 2\n",
        "Soma2 = list(map(lambda x:x+2, numeros))\n",
        "Soma2\n",
        "  "
      ],
      "metadata": {
        "colab": {
          "base_uri": "https://localhost:8080/"
        },
        "id": "SjqlaZdnD_1v",
        "outputId": "81d8b724-0d7a-4c48-c806-e98599bf894e"
      },
      "execution_count": null,
      "outputs": [
        {
          "output_type": "execute_result",
          "data": {
            "text/plain": [
              "[5, 11, 8, 20]"
            ]
          },
          "metadata": {},
          "execution_count": 18
        }
      ]
    },
    {
      "cell_type": "code",
      "source": [
        "# exemplo função filter - a partir de uma lista e nomes\n",
        "\n",
        "nomes = ['joao','jose','sebastiao','angelica']\n",
        "\n",
        "new_list = list(filter(lambda x : len(x)>5, nomes))\n",
        "new_list"
      ],
      "metadata": {
        "colab": {
          "base_uri": "https://localhost:8080/"
        },
        "id": "wPON9J8GE7et",
        "outputId": "b9b34cb8-1190-4c29-8560-ade6a3c89325"
      },
      "execution_count": null,
      "outputs": [
        {
          "output_type": "execute_result",
          "data": {
            "text/plain": [
              "['sebastiao', 'angelica']"
            ]
          },
          "metadata": {},
          "execution_count": 21
        }
      ]
    },
    {
      "cell_type": "markdown",
      "source": [],
      "metadata": {
        "id": "FnGPkU52IvCo"
      }
    },
    {
      "cell_type": "code",
      "source": [
        "#crie uma lista de notas, imprime as maiores que 6\n",
        " \n",
        "numeros = [3,6,7,8,5,44,77]\n",
        "new_list = list(filter(lambda x : (x)>6, numeros))\n",
        "new_list"
      ],
      "metadata": {
        "colab": {
          "base_uri": "https://localhost:8080/"
        },
        "id": "12u0fWncGObq",
        "outputId": "1cb5d3c9-2a46-43dc-905d-d0a6dd64e502"
      },
      "execution_count": null,
      "outputs": [
        {
          "output_type": "execute_result",
          "data": {
            "text/plain": [
              "[7, 8, 44, 77]"
            ]
          },
          "metadata": {},
          "execution_count": 32
        }
      ]
    },
    {
      "cell_type": "code",
      "source": [
        "#dada uma lista de numeros ,retorne uma lista contendo o quadrado de cada numero\n",
        "numeros = [16,9,49,81]\n",
        "new_list =list(map(lambda x : x**2, numeros))\n",
        "new_list"
      ],
      "metadata": {
        "colab": {
          "base_uri": "https://localhost:8080/"
        },
        "id": "i_Ya5TnoJAi9",
        "outputId": "89425754-6a2b-4932-928f-ff7bebb25f57"
      },
      "execution_count": null,
      "outputs": [
        {
          "output_type": "execute_result",
          "data": {
            "text/plain": [
              "[256, 81, 2401, 6561]"
            ]
          },
          "metadata": {},
          "execution_count": 40
        }
      ]
    },
    {
      "cell_type": "code",
      "source": [
        "#dada uma lista de nomes, retorne uma lista contendo o tamanho de cada nome\n",
        "nomes = ['Beatriz', 'Caio', 'Bruno', ' larissa']\n",
        "new_list =list(map(lambda x : len(x), nomes))\n",
        "new_list"
      ],
      "metadata": {
        "colab": {
          "base_uri": "https://localhost:8080/"
        },
        "id": "b0XExP_RI9eq",
        "outputId": "b1baf9bf-e2eb-4210-ed44-1330a679aab6"
      },
      "execution_count": null,
      "outputs": [
        {
          "output_type": "execute_result",
          "data": {
            "text/plain": [
              "[7, 4, 5, 8]"
            ]
          },
          "metadata": {},
          "execution_count": 41
        }
      ]
    },
    {
      "cell_type": "code",
      "source": [
        "#dada uma lista de numeros, retorne uma lista contendo apenas os numeros pares\n",
        "numeros = [1,2,3,4,5,6,7,8,9,10]\n",
        "new_list = list(filter(lambda x :(x) %2 == 0 , numeros))\n",
        "new_list\n",
        "\n"
      ],
      "metadata": {
        "colab": {
          "base_uri": "https://localhost:8080/"
        },
        "id": "-SLKPN6XLzvT",
        "outputId": "9ab4db84-4c12-4acd-fadd-8c63d430b5b4"
      },
      "execution_count": null,
      "outputs": [
        {
          "output_type": "execute_result",
          "data": {
            "text/plain": [
              "[2, 4, 6, 8, 10]"
            ]
          },
          "metadata": {},
          "execution_count": 57
        }
      ]
    },
    {
      "cell_type": "code",
      "source": [
        "#dada uma lista de nomes, retorne uma lista contendo apenas os nomes que começam com a letra A\n",
        "nomes = ['Andre','Aria','Robson','Ana']\n",
        "new_list = list(filter(lambda x: x[0] == 'A', nomes))\n",
        "new_list\n"
      ],
      "metadata": {
        "colab": {
          "base_uri": "https://localhost:8080/"
        },
        "id": "yeKqimwENdWS",
        "outputId": "c5ebf10c-4a8c-4a63-b1cd-e814070097dc"
      },
      "execution_count": null,
      "outputs": [
        {
          "output_type": "execute_result",
          "data": {
            "text/plain": [
              "['Andre', 'Aria', 'Ana']"
            ]
          },
          "metadata": {},
          "execution_count": 78
        }
      ]
    }
  ]
}