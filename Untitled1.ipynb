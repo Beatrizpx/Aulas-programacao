{
  "nbformat": 4,
  "nbformat_minor": 0,
  "metadata": {
    "colab": {
      "provenance": [],
      "authorship_tag": "ABX9TyO4O0Ja9ZiU9gAvkZa4ofdx",
      "include_colab_link": true
    },
    "kernelspec": {
      "name": "python3",
      "display_name": "Python 3"
    },
    "language_info": {
      "name": "python"
    }
  },
  "cells": [
    {
      "cell_type": "markdown",
      "metadata": {
        "id": "view-in-github",
        "colab_type": "text"
      },
      "source": [
        "<a href=\"https://colab.research.google.com/github/Beatrizpx/Aulas-programacao/blob/main/Untitled1.ipynb\" target=\"_parent\"><img src=\"https://colab.research.google.com/assets/colab-badge.svg\" alt=\"Open In Colab\"/></a>"
      ]
    },
    {
      "cell_type": "code",
      "execution_count": null,
      "metadata": {
        "id": "Cwh9cdQovNIf"
      },
      "outputs": [],
      "source": [
        "import random\n",
        "num = random.randrange(101)\n",
        "minimo = 0\n",
        "maximo = 100\n",
        "pitaco = int( input(f'chute um numero entre {minimo} e {maximo}: '))\n",
        "\n",
        "while(num != pitaco):\n",
        "  if(pitaco > num):\n",
        "   maximo < pitaco\n",
        "else:\n",
        "  minimo = pitaco\n",
        "  pitaco = int( input(f'chute um numero entre {minimo} e {maximo}: '))\n",
        "  cont+=1\n",
        " \n",
        "print(f'acertouuu! {cont} tentativas')"
      ]
    },
    {
      "cell_type": "code",
      "source": [
        "def pronomeTratam(pronome):\n",
        "  print(pronome,\"Pablo\")\n",
        "primeiraFuncao()"
      ],
      "metadata": {
        "id": "wwnj1bB94ksE"
      },
      "execution_count": 27,
      "outputs": []
    },
    {
      "cell_type": "code",
      "source": [
        "def primeiraFuncao():\n",
        "  print('minha primeira função, ó!')\n",
        "\n",
        "primeiraFuncao()\n"
      ],
      "metadata": {
        "colab": {
          "base_uri": "https://localhost:8080/"
        },
        "id": "XLsv4GnE3e82",
        "outputId": "50db9a6e-f421-4f4a-b104-41aaac38e3ce"
      },
      "execution_count": 22,
      "outputs": [
        {
          "output_type": "stream",
          "name": "stdout",
          "text": [
            "minha primeira função, ó!\n"
          ]
        }
      ]
    },
    {
      "cell_type": "code",
      "source": [
        "def primeiraTratam(pronome):\n",
        "  print(pronome,\"Pablo\")"
      ],
      "metadata": {
        "id": "evhhln3z45Pi"
      },
      "execution_count": 29,
      "outputs": []
    },
    {
      "cell_type": "code",
      "source": [
        "pronomeTratam( 'doutor')\n",
        "pronomeTratam( 'ilmo')\n",
        "pronomeTratam( 'seu')\n"
      ],
      "metadata": {
        "colab": {
          "base_uri": "https://localhost:8080/"
        },
        "id": "i0fVV5pS5NQo",
        "outputId": "68ca5888-f5eb-4eb8-8267-afd0adf3fb31"
      },
      "execution_count": 30,
      "outputs": [
        {
          "output_type": "stream",
          "name": "stdout",
          "text": [
            "doutor Pablo\n",
            "minha primeira função, ó!\n",
            "ilmo Pablo\n",
            "minha primeira função, ó!\n",
            "seu Pablo\n",
            "minha primeira função, ó!\n"
          ]
        }
      ]
    },
    {
      "cell_type": "code",
      "source": [
        "def boasVindas(nome, cargo):\n",
        "  print('Olá,'+ cargo +''+ nome)\n"
      ],
      "metadata": {
        "id": "GO0SAm2K6DEw"
      },
      "execution_count": 32,
      "outputs": []
    },
    {
      "cell_type": "code",
      "source": [
        "boasVindas('Mariana', 'engenheira')\n",
        "boasVindas('julia', 'carimbador')\n",
        "boasVindas('joao','sargento')\n",
        "boasVindas('alex','medico')"
      ],
      "metadata": {
        "colab": {
          "base_uri": "https://localhost:8080/"
        },
        "id": "-8Dvxg9i6dew",
        "outputId": "45f229a5-2763-4ad0-f604-ec9a5893745b"
      },
      "execution_count": 36,
      "outputs": [
        {
          "output_type": "stream",
          "name": "stdout",
          "text": [
            "Olá,engenheiraMariana\n",
            "Olá,carimbadorjulia\n",
            "Olá,sargentojoao\n",
            "Olá,medicoalex\n"
          ]
        }
      ]
    },
    {
      "cell_type": "code",
      "source": [
        "def somaNotas(*notas):\n",
        "  soma = 0\n",
        "  for nota in notas:\n",
        "    soma += nota\n",
        "  print(soma / len(notas))"
      ],
      "metadata": {
        "id": "l6xkj9fW6YOn"
      },
      "execution_count": 44,
      "outputs": []
    },
    {
      "cell_type": "code",
      "source": [
        "somaNotas(3, 5, 4, 7, 9)"
      ],
      "metadata": {
        "colab": {
          "base_uri": "https://localhost:8080/"
        },
        "id": "icWtgu_r94B8",
        "outputId": "49a4ea22-3b1b-4308-d3bd-09cd437e6257"
      },
      "execution_count": 45,
      "outputs": [
        {
          "output_type": "stream",
          "name": "stdout",
          "text": [
            "5.6\n"
          ]
        }
      ]
    },
    {
      "cell_type": "code",
      "source": [
        "def nacionalidade(country = 'cuba'):\n",
        "  print('eu nasci em: '+ country)\n"
      ],
      "metadata": {
        "id": "PFg-msVcAYXD"
      },
      "execution_count": 47,
      "outputs": []
    },
    {
      "cell_type": "code",
      "source": [
        "nacionalidade('brasil')\n",
        "nacionalidade('frança')\n",
        "nacionalidade('alemanha')"
      ],
      "metadata": {
        "colab": {
          "base_uri": "https://localhost:8080/"
        },
        "id": "tzZg44GOAxKK",
        "outputId": "7b519350-3d8f-411c-ae75-31ffa4228806"
      },
      "execution_count": 48,
      "outputs": [
        {
          "output_type": "stream",
          "name": "stdout",
          "text": [
            "eu nasci em: brasil\n",
            "eu nasci em: frança\n",
            "eu nasci em: alemanha\n"
          ]
        }
      ]
    },
    {
      "cell_type": "code",
      "source": [
        "def imc(peso, altura):\n",
        "  return peso/altura**2\n"
      ],
      "metadata": {
        "id": "6IZCkDW8BvMX"
      },
      "execution_count": 55,
      "outputs": []
    },
    {
      "cell_type": "code",
      "source": [
        "imc(85,157)<30"
      ],
      "metadata": {
        "colab": {
          "base_uri": "https://localhost:8080/"
        },
        "id": "4xRYd3lkCDF7",
        "outputId": "d736265a-4f2d-4c43-d948-71401418e7e0"
      },
      "execution_count": 54,
      "outputs": [
        {
          "output_type": "execute_result",
          "data": {
            "text/plain": [
              "True"
            ]
          },
          "metadata": {},
          "execution_count": 54
        }
      ]
    },
    {
      "cell_type": "code",
      "source": [
        "def soma (a,b):\n",
        "  return a + b\n",
        "def subtracao (a,b):\n",
        " return a - b\n",
        "def vezes (a,b):\n",
        "  return a * b\n",
        "def divisao (a,b):\n",
        "  return a/b\n"
      ],
      "metadata": {
        "id": "94NNbZ_GEinn"
      },
      "execution_count": 68,
      "outputs": []
    },
    {
      "cell_type": "code",
      "source": [],
      "metadata": {
        "id": "Mtr6fWvMGuej"
      },
      "execution_count": null,
      "outputs": []
    }
  ]
}