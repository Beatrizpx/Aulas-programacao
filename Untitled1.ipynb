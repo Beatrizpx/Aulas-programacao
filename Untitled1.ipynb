{
  "nbformat": 4,
  "nbformat_minor": 0,
  "metadata": {
    "colab": {
      "provenance": [],
      "authorship_tag": "ABX9TyOs3G1vi9z54/opxVm5YKbT",
      "include_colab_link": true
    },
    "kernelspec": {
      "name": "python3",
      "display_name": "Python 3"
    },
    "language_info": {
      "name": "python"
    }
  },
  "cells": [
    {
      "cell_type": "markdown",
      "metadata": {
        "id": "view-in-github",
        "colab_type": "text"
      },
      "source": [
        "<a href=\"https://colab.research.google.com/github/Beatrizpx/Aulas-programacao/blob/main/Untitled1.ipynb\" target=\"_parent\"><img src=\"https://colab.research.google.com/assets/colab-badge.svg\" alt=\"Open In Colab\"/></a>"
      ]
    },
    {
      "cell_type": "code",
      "execution_count": null,
      "metadata": {
        "id": "Cwh9cdQovNIf"
      },
      "outputs": [],
      "source": [
        "import random\n",
        "num = random.randrange(101)\n",
        "minimo = 0\n",
        "maximo = 100\n",
        "pitaco = int( input(f'chute um numero entre {minimo} e {maximo}: '))\n",
        "\n",
        "while(num != pitaco):\n",
        " if(pitaco > num):\n",
        "   maximo < pitaco\n",
        "else:\n",
        "  minimo = pitaco\n",
        "  pitaco = int( input(f'chute um numero entre {minimo} e {maximo}: '))\n",
        "  cont+=1\n",
        " \n",
        "print(f'acertouuu! {cont} tentativas')"
      ]
    }
  ]
}