{
  "nbformat": 4,
  "nbformat_minor": 0,
  "metadata": {
    "colab": {
      "provenance": [],
      "authorship_tag": "ABX9TyN7e8Pd2V02F9EkbAYHlRNK",
      "include_colab_link": true
    },
    "kernelspec": {
      "name": "python3",
      "display_name": "Python 3"
    },
    "language_info": {
      "name": "python"
    }
  },
  "cells": [
    {
      "cell_type": "markdown",
      "metadata": {
        "id": "view-in-github",
        "colab_type": "text"
      },
      "source": [
        "<a href=\"https://colab.research.google.com/github/Beatrizpx/Aulas-programacao/blob/main/exercicios_de_pyhton.ipynb\" target=\"_parent\"><img src=\"https://colab.research.google.com/assets/colab-badge.svg\" alt=\"Open In Colab\"/></a>"
      ]
    },
    {
      "cell_type": "code",
      "execution_count": null,
      "metadata": {
        "id": "Tw2_JriaC6hQ"
      },
      "outputs": [],
      "source": [
        "#Exercícios usando map() e filter()\n",
        "#Dada uma lista de números, retorne uma lista contendo o quadrado de cada número.\n",
        "#Dada uma lista de nomes, retorne uma lista contendo o tamanho de cada nome.\n",
        "#Dada uma lista de números, retorne uma lista contendo apenas os números pares.\n",
        "#Dada uma lista de nomes, retorne uma lista contendo apenas os nomes que começam com a letra \"A\".\n",
        "#Recebe uma lista com notas de alunos, retorna apenas os aprovados (nota maior ou igual a 7)\n",
        "#Recebe uma lista de nomes, retorna apenas os que começam com vogal\n",
        "#Escreva uma função que recebe uma lista de números e retorna uma nova lista contendo apenas os números que são divisíveis por 3 e 5.\n",
        "#Escreva uma função que recebe uma lista de strings e retorna uma nova lista contendo apenas as strings que iniciam com uma letra maiúscula.\n",
        "#Recebe uma lista de strings, e retorna uma lista apenas com as iniciais de cada string.\n",
        "#Escreva uma função que recebe uma lista de números e retorna uma nova lista contendo apenas os números pares elevados ao quadrado."
      ]
    },
    {
      "cell_type": "code",
      "source": [
        "#dada uma lista de numeros, retorna uma lista contendo o quadrado de cada numero\n",
        "\n",
        "numero = [5,7,9,2]\n",
        "new_list = list(map(lambda x : x**2, numero))\n",
        "new_list"
      ],
      "metadata": {
        "colab": {
          "base_uri": "https://localhost:8080/"
        },
        "id": "cTl9uhMSEZI2",
        "outputId": "63884cbc-8494-4a30-85f5-c859d4642ee4"
      },
      "execution_count": 10,
      "outputs": [
        {
          "output_type": "execute_result",
          "data": {
            "text/plain": [
              "[25, 49, 81, 4]"
            ]
          },
          "metadata": {},
          "execution_count": 10
        }
      ]
    },
    {
      "cell_type": "code",
      "source": [
        "#Dada uma lista de nomes, retorne uma lista contendo o tamanho de cada nome.\n",
        "\n",
        "name = ['Beatriz','Joao','Alex', 'Vinicius', 'Maria']\n",
        "new_list = list(map(lambda x : len(x), name))\n",
        "new_list"
      ],
      "metadata": {
        "colab": {
          "base_uri": "https://localhost:8080/"
        },
        "id": "82elBSvgGoxA",
        "outputId": "a06dd02f-6163-4c9e-b4aa-929421dfbe4d"
      },
      "execution_count": 11,
      "outputs": [
        {
          "output_type": "execute_result",
          "data": {
            "text/plain": [
              "[7, 4, 4, 8, 5]"
            ]
          },
          "metadata": {},
          "execution_count": 11
        }
      ]
    },
    {
      "cell_type": "code",
      "source": [
        "#Dada uma lista de números, retorne uma lista contendo apenas os números pares\n",
        "\n",
        "number = [1,2,3,4,5,6,7,8,9,10]\n",
        "new_list = list(filter(lambda x : x %2 == 0, number))\n",
        "new_list"
      ],
      "metadata": {
        "colab": {
          "base_uri": "https://localhost:8080/"
        },
        "id": "_VgoRQXNHjEc",
        "outputId": "6f8e47bb-ac86-426c-8851-e87aae3c192c"
      },
      "execution_count": 12,
      "outputs": [
        {
          "output_type": "execute_result",
          "data": {
            "text/plain": [
              "[2, 4, 6, 8, 10]"
            ]
          },
          "metadata": {},
          "execution_count": 12
        }
      ]
    },
    {
      "cell_type": "code",
      "source": [
        "#Dada uma lista de nomes, retorne uma lista contendo apenas os nomes que começam com a letra \"A\".\n",
        "\n",
        "name = ['aria','joao','bia','andre','antonio']\n",
        "new_list = list(filter(lambda x :x [0] == 'a', name))\n",
        "new_list"
      ],
      "metadata": {
        "colab": {
          "base_uri": "https://localhost:8080/"
        },
        "id": "JxfoWdHeI5nV",
        "outputId": "7be8ec6f-43d4-4652-f294-f77da48f5ef4"
      },
      "execution_count": 22,
      "outputs": [
        {
          "output_type": "execute_result",
          "data": {
            "text/plain": [
              "['aria', 'andre', 'antonio']"
            ]
          },
          "metadata": {},
          "execution_count": 22
        }
      ]
    },
    {
      "cell_type": "code",
      "source": [
        "#Recebe uma lista com notas de alunos, retorna apenas os aprovados (nota maior ou igual a 7)\n",
        "\n",
        "number = [10,3,5,9,8]\n",
        "new_list = list(filter(lambda x : x >=7 , number))\n",
        "new_list"
      ],
      "metadata": {
        "colab": {
          "base_uri": "https://localhost:8080/"
        },
        "id": "syMWpMR-LWVe",
        "outputId": "6697f3b9-6c69-4539-d722-5bb0dc0868b9"
      },
      "execution_count": 35,
      "outputs": [
        {
          "output_type": "execute_result",
          "data": {
            "text/plain": [
              "[10, 9, 8]"
            ]
          },
          "metadata": {},
          "execution_count": 35
        }
      ]
    }
  ]
}